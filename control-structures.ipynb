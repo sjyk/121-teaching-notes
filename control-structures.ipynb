{
 "cells": [
  {
   "cell_type": "markdown",
   "metadata": {},
   "source": [
    "# Control Structures"
   ]
  },
  {
   "cell_type": "markdown",
   "metadata": {},
   "source": [
    "In the imperative programming paradigm (to which Python belongs, as well as Java, C, etc.) a program is a sequence of *statements* that are run in the order in which they appear. We're already seen some simple statements: assignments and the ``print`` function."
   ]
  },
  {
   "cell_type": "code",
   "execution_count": 4,
   "metadata": {
    "collapsed": false
   },
   "outputs": [
    {
     "name": "stdout",
     "output_type": "stream",
     "text": [
      "n is 7\n",
      "n is now 10\n"
     ]
    }
   ],
   "source": [
    "n = 7\n",
    "print(\"n is\", n)\n",
    "n = 10\n",
    "print(\"n is now\", n)"
   ]
  },
  {
   "cell_type": "markdown",
   "metadata": {},
   "source": [
    "In the above example, we have four statements. Python executes each statement in the order in which they appear.\n",
    "\n",
    "Side note: Notice how we can pass multiple parameters, of different types, to ``print``. It will print each of them separated by a space."
   ]
  },
  {
   "cell_type": "markdown",
   "metadata": {},
   "source": [
    "However, sometimes we need to alter the *control flow* of the program. For example, we may want the program to run a statement based on the outcome of a previous statement, or we may want to repeat a block of statements multiple times.\n",
    "\n",
    "In general, a statement can be one of the following:\n",
    "\n",
    "* assignment statement (seen in the previous lecture)\n",
    "* conditional\n",
    "* while loop\n",
    "* for loop\n",
    "* function call (``print`` is an example of a function call)\n",
    "\n",
    "[BSB: Precise definitions can be found at https://docs.python.org/3.4/reference/toplevel_components.html,  https://docs.python.org/3.4/reference/simple_stmts.html and https://docs.python.org/3.4/reference/compound_stmts.html. Unlike Java, it doesn't feel as natural to consider a \"block\" as a type of statement, since blocks (what Python calls \"suites\") only make sense in the context of compound statements like if, while, etc.]\n",
    "\n",
    "This list is not exhaustive! However, for now, you can think of a Python program as being a sequence of statements of the above type. In this lecture, we will talk about conditionals, whiles, and for loops. We will talk about functions (and function calls) in subsequent lectures."
   ]
  },
  {
   "cell_type": "markdown",
   "metadata": {},
   "source": [
    "## Conditionals"
   ]
  },
  {
   "cell_type": "markdown",
   "metadata": {},
   "source": [
    "A conditional statement allows the program to perform different actions based on the value of a boolean expression. Remember: a boolean expression is an expression that yields True or False. "
   ]
  },
  {
   "cell_type": "code",
   "execution_count": 5,
   "metadata": {
    "collapsed": true
   },
   "outputs": [],
   "source": [
    "n = 5"
   ]
  },
  {
   "cell_type": "code",
   "execution_count": 6,
   "metadata": {
    "collapsed": false
   },
   "outputs": [
    {
     "data": {
      "text/plain": [
       "1"
      ]
     },
     "execution_count": 6,
     "metadata": {},
     "output_type": "execute_result"
    }
   ],
   "source": [
    "n % 2"
   ]
  },
  {
   "cell_type": "code",
   "execution_count": 7,
   "metadata": {
    "collapsed": false
   },
   "outputs": [
    {
     "data": {
      "text/plain": [
       "True"
      ]
     },
     "execution_count": 7,
     "metadata": {},
     "output_type": "execute_result"
    }
   ],
   "source": [
    "(n % 2) == 1"
   ]
  },
  {
   "cell_type": "markdown",
   "metadata": {},
   "source": [
    "The basic structure of a conditional is::\n",
    "\n",
    "    if <boolean expression>:\n",
    "        <block>\n",
    "    else:\n",
    "        <block>\n",
    "        \n",
    "For example:"
   ]
  },
  {
   "cell_type": "code",
   "execution_count": 8,
   "metadata": {
    "collapsed": false
   },
   "outputs": [
    {
     "name": "stdout",
     "output_type": "stream",
     "text": [
      "5 is odd\n"
     ]
    }
   ],
   "source": [
    "if (n % 2) == 1:\n",
    "    print(n, \"is odd\")\n",
    "else:\n",
    "    print(n, \"is even\")"
   ]
  },
  {
   "cell_type": "markdown",
   "metadata": {},
   "source": [
    "We don't write the ``<`` and ``>``. When describing the syntax of a programming language, the brackets indicate \"substitute this for ...\".\n",
    "\n",
    "Notice how there is a block of code that is run if the boolean expression is true, and another block that is run if the condition is false. Each block has a single statement, but we can have multiple statements:"
   ]
  },
  {
   "cell_type": "code",
   "execution_count": 9,
   "metadata": {
    "collapsed": false
   },
   "outputs": [
    {
     "name": "stdout",
     "output_type": "stream",
     "text": [
      "5 is odd\n",
      "This concludes the odd branch.\n"
     ]
    }
   ],
   "source": [
    "if (n % 2) == 1:\n",
    "    print(n, \"is odd\")\n",
    "    print(\"This concludes the odd branch.\")\n",
    "else:\n",
    "    print(n, \"is even\")\n",
    "    print(\"This concludes the even branch.\")"
   ]
  },
  {
   "cell_type": "markdown",
   "metadata": {},
   "source": [
    "In Python, the way we delimit these blocks is via *indentation*. Notice how the statements under the ``if`` are all indented at the same level. If we had this:"
   ]
  },
  {
   "cell_type": "code",
   "execution_count": 14,
   "metadata": {
    "collapsed": false
   },
   "outputs": [
    {
     "name": "stdout",
     "output_type": "stream",
     "text": [
      "5 is odd\n",
      "This concludes the odd branch.\n"
     ]
    }
   ],
   "source": [
    "if (n % 2) == 1:\n",
    "    print(n, \"is odd\")\n",
    "print(\"This concludes the odd branch.\")"
   ]
  },
  {
   "cell_type": "markdown",
   "metadata": {},
   "source": [
    "This produces the same output, but is not the same as the conditional we showed above. The second print is *always* run:"
   ]
  },
  {
   "cell_type": "code",
   "execution_count": 15,
   "metadata": {
    "collapsed": false
   },
   "outputs": [
    {
     "name": "stdout",
     "output_type": "stream",
     "text": [
      "This concludes the odd branch.\n"
     ]
    }
   ],
   "source": [
    "n = 4\n",
    "if (n % 2) == 1:\n",
    "    print(n, \"is odd\")\n",
    "print(\"This concludes the odd branch.\")"
   ]
  },
  {
   "cell_type": "markdown",
   "metadata": {},
   "source": [
    "--> In CMSC 12100 you should use **four spaces** for indentation. Do not use \"tab characters\"!!!"
   ]
  },
  {
   "cell_type": "markdown",
   "metadata": {},
   "source": [
    "Notice how wrong levels of indentation will produce errors:"
   ]
  },
  {
   "cell_type": "code",
   "execution_count": 10,
   "metadata": {
    "collapsed": false
   },
   "outputs": [
    {
     "ename": "IndentationError",
     "evalue": "expected an indented block (<ipython-input-10-9223e0a8b1d2>, line 2)",
     "output_type": "error",
     "traceback": [
      "\u001b[1;36m  File \u001b[1;32m\"<ipython-input-10-9223e0a8b1d2>\"\u001b[1;36m, line \u001b[1;32m2\u001b[0m\n\u001b[1;33m    print(n, \"is odd\")\u001b[0m\n\u001b[1;37m        ^\u001b[0m\n\u001b[1;31mIndentationError\u001b[0m\u001b[1;31m:\u001b[0m expected an indented block\n"
     ]
    }
   ],
   "source": [
    "if (n % 2) == 1:\n",
    "print(n, \"is odd\")"
   ]
  },
  {
   "cell_type": "code",
   "execution_count": 53,
   "metadata": {
    "collapsed": false
   },
   "outputs": [
    {
     "ename": "IndentationError",
     "evalue": "unexpected indent (<ipython-input-53-4d76243446bc>, line 3)",
     "output_type": "error",
     "traceback": [
      "\u001b[1;36m  File \u001b[1;32m\"<ipython-input-53-4d76243446bc>\"\u001b[1;36m, line \u001b[1;32m3\u001b[0m\n\u001b[1;33m    print(\"This concludes the odd branch.\")\u001b[0m\n\u001b[1;37m    ^\u001b[0m\n\u001b[1;31mIndentationError\u001b[0m\u001b[1;31m:\u001b[0m unexpected indent\n"
     ]
    }
   ],
   "source": [
    "if (n % 2) == 1:\n",
    "    print(n, \"is odd\")\n",
    "     print(\"This concludes the odd branch.\")"
   ]
  },
  {
   "cell_type": "markdown",
   "metadata": {},
   "source": [
    "Conditionals can have multiple if branches (but only one else, which is run if none of the conditions are met):"
   ]
  },
  {
   "cell_type": "code",
   "execution_count": 60,
   "metadata": {
    "collapsed": false
   },
   "outputs": [
    {
     "name": "stdout",
     "output_type": "stream",
     "text": [
      "18 is positive and even\n"
     ]
    }
   ],
   "source": [
    "n = 18\n",
    "if n < 0:\n",
    "    print(n, \"is negative\")\n",
    "elif n % 2 == 1:\n",
    "    print(n, \"is positive and odd\")\n",
    "else:\n",
    "    print(n, \"is positive and even\")"
   ]
  },
  {
   "cell_type": "code",
   "execution_count": 59,
   "metadata": {
    "collapsed": false
   },
   "outputs": [
    {
     "name": "stdout",
     "output_type": "stream",
     "text": [
      "-5 is negative\n"
     ]
    }
   ],
   "source": [
    "n = -5\n",
    "if n < 0:\n",
    "    print(n, \"is negative\")\n",
    "elif n % 2 == 1:\n",
    "    print(n, \"is positive and odd\")\n",
    "else:\n",
    "    print(n, \"is positive and even\")"
   ]
  },
  {
   "cell_type": "markdown",
   "metadata": {},
   "source": [
    "Note: The \"else\" could be replaced by \"elif n % 2 == 0\", which is the only possible outcome at that point. Both are correct, but the \"elif\" would be clearer in terms of reading the code and understanding what each branch does."
   ]
  },
  {
   "cell_type": "markdown",
   "metadata": {},
   "source": [
    "## Loops"
   ]
  },
  {
   "cell_type": "markdown",
   "metadata": {},
   "source": [
    "Loops provide a mechanism for doing repeated work. In many languages, there are two types of loops: ``for`` loops and ``while`` loops. "
   ]
  },
  {
   "cell_type": "markdown",
   "metadata": {},
   "source": [
    "### ``for`` loops"
   ]
  },
  {
   "cell_type": "markdown",
   "metadata": {},
   "source": [
    "In Python, ``for`` loops are the most common ones, and have the following form::\n",
    "\n",
    "    for <var> in <sequence>:\n",
    "        <block>\n",
    "        \n",
    "In the next lecture we will take a deeper look at *lists*, another Python data type. For now, you can think of a list as a sequence of values:"
   ]
  },
  {
   "cell_type": "code",
   "execution_count": 16,
   "metadata": {
    "collapsed": true
   },
   "outputs": [],
   "source": [
    "nums = [1, 4, 8, 9, 11]"
   ]
  },
  {
   "cell_type": "markdown",
   "metadata": {},
   "source": [
    "Variable ``nums`` contains a list of integers. In the next lecture we will see there's all sort of interesting operations we can do on lists. For now, we'll just consider how we use them in a ``for`` loop.\n",
    "\n",
    "A ``for`` loop allows us to repeat an action for each of the elements in this list:"
   ]
  },
  {
   "cell_type": "code",
   "execution_count": 17,
   "metadata": {
    "collapsed": false
   },
   "outputs": [
    {
     "name": "stdout",
     "output_type": "stream",
     "text": [
      "1\n",
      "4\n",
      "8\n",
      "9\n",
      "11\n"
     ]
    }
   ],
   "source": [
    "for n in nums:\n",
    "    print(n)"
   ]
  },
  {
   "cell_type": "markdown",
   "metadata": {},
   "source": [
    "In each *iteration* of the loop, the value of ``n`` is set to the value of an element of the list, starting with the first element and advancing to the next element in each iteration. Once all the elements have been processed, the loop ends."
   ]
  },
  {
   "cell_type": "markdown",
   "metadata": {},
   "source": [
    "We can have more complex statements inside the body of the loop:"
   ]
  },
  {
   "cell_type": "code",
   "execution_count": 18,
   "metadata": {
    "collapsed": false
   },
   "outputs": [
    {
     "name": "stdout",
     "output_type": "stream",
     "text": [
      "1 is odd\n",
      "4 is even\n",
      "8 is even\n",
      "9 is odd\n",
      "11 is odd\n"
     ]
    }
   ],
   "source": [
    "for n in nums:\n",
    "    if (n % 2) == 1:\n",
    "        print(n, \"is odd\")\n",
    "    else:\n",
    "        print(n, \"is even\")"
   ]
  },
  {
   "cell_type": "markdown",
   "metadata": {},
   "source": [
    "Notice the two levels of indentation: once for the body of the loop, and twice for the if and else branches."
   ]
  },
  {
   "cell_type": "markdown",
   "metadata": {},
   "source": [
    "A common way of using ``for`` loops is to do something with all the integers in a given *range*. Let's say we wanted to run the above code with all the integers between 1 and 20. We could do this:"
   ]
  },
  {
   "cell_type": "code",
   "execution_count": 20,
   "metadata": {
    "collapsed": false
   },
   "outputs": [
    {
     "name": "stdout",
     "output_type": "stream",
     "text": [
      "1 is odd\n",
      "2 is even\n",
      "3 is odd\n",
      "4 is even\n",
      "5 is odd\n",
      "6 is even\n",
      "7 is odd\n",
      "8 is even\n",
      "9 is odd\n",
      "10 is even\n",
      "11 is odd\n",
      "12 is even\n",
      "13 is odd\n",
      "14 is even\n",
      "15 is odd\n",
      "16 is even\n",
      "17 is odd\n",
      "18 is even\n",
      "19 is odd\n",
      "20 is even\n"
     ]
    }
   ],
   "source": [
    "nums = [1,2,3,4,5,6,7,8,9,10,11,12,13,14,15,16,17,18,19,20]\n",
    "for n in nums:\n",
    "    if (n % 2) == 1:\n",
    "        print(n, \"is odd\")\n",
    "    else:\n",
    "        print(n, \"is even\")"
   ]
  },
  {
   "cell_type": "markdown",
   "metadata": {},
   "source": [
    "Clearly there must be a better way of doing this (what if I want to do this for numbers 1..100? Do I have to write them all out?). Instead, we can use the built-in ``range`` function:"
   ]
  },
  {
   "cell_type": "code",
   "execution_count": 21,
   "metadata": {
    "collapsed": false
   },
   "outputs": [
    {
     "name": "stdout",
     "output_type": "stream",
     "text": [
      "1 is odd\n",
      "2 is even\n",
      "3 is odd\n",
      "4 is even\n",
      "5 is odd\n",
      "6 is even\n",
      "7 is odd\n",
      "8 is even\n",
      "9 is odd\n",
      "10 is even\n",
      "11 is odd\n",
      "12 is even\n",
      "13 is odd\n",
      "14 is even\n",
      "15 is odd\n",
      "16 is even\n",
      "17 is odd\n",
      "18 is even\n",
      "19 is odd\n"
     ]
    }
   ],
   "source": [
    "for n in range(1,20):\n",
    "    if (n % 2) == 1:\n",
    "        print(n, \"is odd\")\n",
    "    else:\n",
    "        print(n, \"is even\")"
   ]
  },
  {
   "cell_type": "markdown",
   "metadata": {},
   "source": [
    "Uh-oh: ``range(lb, ub)`` produces all the numbers between ``lb`` and ``ub``, not including ``ub``. So, for 1..20 we need to do this:"
   ]
  },
  {
   "cell_type": "code",
   "execution_count": 27,
   "metadata": {
    "collapsed": false
   },
   "outputs": [
    {
     "name": "stdout",
     "output_type": "stream",
     "text": [
      "1 is odd\n",
      "2 is even\n",
      "3 is odd\n",
      "4 is even\n",
      "5 is odd\n",
      "6 is even\n",
      "7 is odd\n",
      "8 is even\n",
      "9 is odd\n",
      "10 is even\n",
      "11 is odd\n",
      "12 is even\n",
      "13 is odd\n",
      "14 is even\n",
      "15 is odd\n",
      "16 is even\n",
      "17 is odd\n",
      "18 is even\n",
      "19 is odd\n",
      "20 is even\n"
     ]
    }
   ],
   "source": [
    "for n in range(1,21):\n",
    "    if (n % 2) == 1:\n",
    "        print(n, \"is odd\")\n",
    "    else:\n",
    "        print(n, \"is even\")"
   ]
  },
  {
   "cell_type": "markdown",
   "metadata": {},
   "source": [
    "Here is a slightly more elaborate loop for figuring out whether a number is prime:"
   ]
  },
  {
   "cell_type": "code",
   "execution_count": 51,
   "metadata": {
    "collapsed": false
   },
   "outputs": [
    {
     "name": "stdout",
     "output_type": "stream",
     "text": [
      "7 True\n"
     ]
    }
   ],
   "source": [
    "is_prime = True\n",
    "n = 7\n",
    "for i in range(2, n):\n",
    "    # If n is divisible by i, it is not prime\n",
    "    if n % i == 0:\n",
    "        is_prime = False\n",
    "print(n, is_prime)"
   ]
  },
  {
   "cell_type": "markdown",
   "metadata": {},
   "source": [
    "[Ask] This algorithm is correct, but it's not very efficient. What's wrong with it?\n",
    "\n",
    "Answer: What if n = $10^{100}$? It is clearly not prime (it is divisible by 2), but we're still doing $10^{100}$ iterations!\n",
    "\n",
    "In loops, you can use the ``break`` statement to \"bail out\" of a loop, if you've determined that no more iterations are necessary."
   ]
  },
  {
   "cell_type": "code",
   "execution_count": 61,
   "metadata": {
    "collapsed": false
   },
   "outputs": [
    {
     "name": "stdout",
     "output_type": "stream",
     "text": [
      "7 True\n"
     ]
    }
   ],
   "source": [
    "is_prime = True\n",
    "n = 7\n",
    "for i in range(2, n):\n",
    "    # If n is divisible by i, it is not prime\n",
    "    if n % i == 0:\n",
    "        is_prime = False\n",
    "        break\n",
    "print(n, is_prime)"
   ]
  },
  {
   "cell_type": "markdown",
   "metadata": {},
   "source": [
    "In this case, the loop \"bails out\" as soon as it determines that the number is not prime."
   ]
  },
  {
   "cell_type": "markdown",
   "metadata": {},
   "source": [
    "Finally, it is possible to have *nested* loops:"
   ]
  },
  {
   "cell_type": "code",
   "execution_count": 34,
   "metadata": {
    "collapsed": false
   },
   "outputs": [
    {
     "name": "stdout",
     "output_type": "stream",
     "text": [
      "2 True\n",
      "3 True\n",
      "4 False\n",
      "5 True\n",
      "6 False\n",
      "7 True\n",
      "8 False\n",
      "9 False\n",
      "10 False\n",
      "11 True\n",
      "12 False\n",
      "13 True\n",
      "14 False\n",
      "15 False\n",
      "16 False\n",
      "17 True\n",
      "18 False\n",
      "19 True\n",
      "20 False\n",
      "21 False\n",
      "22 False\n",
      "23 True\n",
      "24 False\n",
      "25 False\n",
      "26 False\n",
      "27 False\n",
      "28 False\n",
      "29 True\n",
      "30 False\n",
      "31 True\n",
      "32 False\n",
      "33 False\n",
      "34 False\n",
      "35 False\n",
      "36 False\n",
      "37 True\n",
      "38 False\n",
      "39 False\n",
      "40 False\n",
      "41 True\n",
      "42 False\n",
      "43 True\n",
      "44 False\n",
      "45 False\n",
      "46 False\n",
      "47 True\n",
      "48 False\n",
      "49 False\n",
      "50 False\n",
      "51 False\n",
      "52 False\n",
      "53 True\n",
      "54 False\n",
      "55 False\n",
      "56 False\n",
      "57 False\n",
      "58 False\n",
      "59 True\n",
      "60 False\n",
      "61 True\n",
      "62 False\n",
      "63 False\n",
      "64 False\n",
      "65 False\n",
      "66 False\n",
      "67 True\n",
      "68 False\n",
      "69 False\n",
      "70 False\n",
      "71 True\n",
      "72 False\n",
      "73 True\n",
      "74 False\n",
      "75 False\n",
      "76 False\n",
      "77 False\n",
      "78 False\n",
      "79 True\n",
      "80 False\n",
      "81 False\n",
      "82 False\n",
      "83 True\n",
      "84 False\n",
      "85 False\n",
      "86 False\n",
      "87 False\n",
      "88 False\n",
      "89 True\n",
      "90 False\n",
      "91 False\n",
      "92 False\n",
      "93 False\n",
      "94 False\n",
      "95 False\n",
      "96 False\n",
      "97 True\n",
      "98 False\n",
      "99 False\n",
      "100 False\n"
     ]
    }
   ],
   "source": [
    "for n in range(2,101):\n",
    "    is_prime = True\n",
    "    for i in range(2, n):\n",
    "        if n % i == 0:\n",
    "            is_prime = False\n",
    "            break\n",
    "    print(n, is_prime)"
   ]
  },
  {
   "cell_type": "markdown",
   "metadata": {},
   "source": [
    "### ``while`` loops"
   ]
  },
  {
   "cell_type": "markdown",
   "metadata": {},
   "source": [
    "``while`` loops also allow us to repeat a block of statements but, instead of repeating an action \"for\" each element in a sequence, they repeat an action \"while\" a condition is true::\n",
    "\n",
    "    while <boolean expression>:\n",
    "        <block>\n",
    "        \n",
    "For example:"
   ]
  },
  {
   "cell_type": "code",
   "execution_count": 24,
   "metadata": {
    "collapsed": false
   },
   "outputs": [
    {
     "name": "stdout",
     "output_type": "stream",
     "text": [
      "0\n",
      "1\n",
      "2\n",
      "3\n",
      "4\n",
      "5\n",
      "6\n",
      "7\n",
      "8\n",
      "9\n"
     ]
    }
   ],
   "source": [
    "i = 0\n",
    "N = 10\n",
    "while i < N:\n",
    "    print(i)\n",
    "    i = i + 1"
   ]
  },
  {
   "cell_type": "markdown",
   "metadata": {},
   "source": [
    "Notice how the above is equivalent to:"
   ]
  },
  {
   "cell_type": "code",
   "execution_count": 26,
   "metadata": {
    "collapsed": false
   },
   "outputs": [
    {
     "name": "stdout",
     "output_type": "stream",
     "text": [
      "0\n",
      "1\n",
      "2\n",
      "3\n",
      "4\n",
      "5\n",
      "6\n",
      "7\n",
      "8\n",
      "9\n"
     ]
    }
   ],
   "source": [
    "N = 10\n",
    "for i in range(N):\n",
    "    print(i)"
   ]
  },
  {
   "cell_type": "markdown",
   "metadata": {},
   "source": [
    "Not only is the second version cleaner, it's less error-prone. Notice how the while loop requires initializing and incrementing the ``i`` variable manually. If we forget the ``i = i + 1`` we will fall into an *infinite loop*.\n",
    "\n",
    "Note: Show this in the IPython interpreter, not in the notebook. An infinite loop in the notebook burns more CPU than the IPython interpreter and is harder to interrupt. To interrupt a runaway cell in the notebook, press ESC-i-i"
   ]
  },
  {
   "cell_type": "markdown",
   "metadata": {},
   "source": [
    "--> As a rule of thumb, any time you have to iterate over a sequence of values, using a ``for`` loop is considered more \"Pythonic\" (i.e., it's \"idiomatic Python\"). A ``while`` loop can still get the job done, but it is more error-prone. There are, however, certain algorithms that do require using a ``while`` loop because the iteration can't be naturally expressed as iterating over a sequence of values."
   ]
  },
  {
   "cell_type": "code",
   "execution_count": 50,
   "metadata": {
    "collapsed": false
   },
   "outputs": [
    {
     "name": "stdout",
     "output_type": "stream",
     "text": [
      "Got 5 consecutive heads after 27 coin flips\n"
     ]
    }
   ],
   "source": [
    "# We \"import\" the 'random' library, which gives us access to functions to generate\n",
    "# random numbers\n",
    "import random\n",
    "\n",
    "consecutive_heads = 0\n",
    "total_flips = 0\n",
    "target = 5\n",
    "\n",
    "# We keep iterating until we've reached our target\n",
    "# Note that, technically, this program could run indefinitely\n",
    "while consecutive_heads < target:\n",
    "    \n",
    "    # random.randint is a function that will produce a\n",
    "    # random integer between a lower and upper bound\n",
    "    # (including both bounds)\n",
    "    flip = random.randint(0,1)\n",
    "    \n",
    "    if flip == 0:\n",
    "        # Heads. We increase the number of consecutive heads\n",
    "        consecutive_heads = consecutive_heads + 1\n",
    "    else:\n",
    "        # Tails. We reset the counter.\n",
    "        consecutive_heads = 0\n",
    "        \n",
    "    # We unconditionally increase the number of total flips\n",
    "    total_flips = total_flips + 1\n",
    "    \n",
    "# Print the result. Note that, since we depend on the generation\n",
    "# of random numbers, you will get a different result every time\n",
    "# you run this code\n",
    "print(\"Got\", target, \"consecutive heads after\", total_flips, \"coin flips\")"
   ]
  }
 ],
 "metadata": {
  "kernelspec": {
   "display_name": "Python 3",
   "language": "python",
   "name": "python3"
  },
  "language_info": {
   "codemirror_mode": {
    "name": "ipython",
    "version": 3
   },
   "file_extension": ".py",
   "mimetype": "text/x-python",
   "name": "python",
   "nbconvert_exporter": "python",
   "pygments_lexer": "ipython3",
   "version": "3.5.0b2"
  }
 },
 "nbformat": 4,
 "nbformat_minor": 0
}
